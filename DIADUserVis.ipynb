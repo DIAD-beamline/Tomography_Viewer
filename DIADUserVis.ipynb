{
 "cells": [
  {
   "cell_type": "markdown",
   "id": "63f5a590-0715-4b30-998b-af0ed6a63c17",
   "metadata": {},
   "source": [
    "# Synchrotron Data Visualisation Tool\n",
    "\n",
    "This notebook helps you visualise your synchrotron data.\n",
    "\n",
    "## Setup\n",
    "First, we'll import the necessary packages. Run each cell by pressing Shift+Enter."
   ]
  },
  {
   "cell_type": "code",
   "execution_count": 7,
   "id": "020a7de7-b6d8-428f-88f4-58599b53224e",
   "metadata": {},
   "outputs": [],
   "source": [
    "import os\n",
    "import glob\n",
    "import h5py\n",
    "import yaml\n",
    "import httomo\n",
    "import numpy as np\n",
    "from data_loader import NXSDataLoader\n",
    "import sys\n",
    "sys.path.append(\"./stackview\")\n",
    "import stackview\n",
    "sys.path.append(\"./yaml_editor\") \n",
    "from yaml_editor_class import YAML_Editor\n",
    "\n",
    "import subprocess\n",
    "import shutil"
   ]
  },
  {
   "cell_type": "markdown",
   "id": "57cb29f6-6b7b-4649-bac9-282c6291b673",
   "metadata": {},
   "source": [
    "## Load Your Data\n",
    "In the cell below, update the `visit_number` and `year` variables with your details."
   ]
  },
  {
   "cell_type": "code",
   "execution_count": 2,
   "id": "333cb710-5c4a-4bbc-918b-cc20bc72b868",
   "metadata": {},
   "outputs": [
    {
     "data": {
      "application/vnd.jupyter.widget-view+json": {
       "model_id": "c0511befa9c64cc79116bde11b1fc077",
       "version_major": 2,
       "version_minor": 0
      },
      "text/plain": [
       "VBox(children=(HTML(value='<b>Nexus Path:</b> /dls/k11/data/2025/cm40627-1/nexus', layout=Layout(width='800px'…"
      ]
     },
     "metadata": {},
     "output_type": "display_data"
    }
   ],
   "source": [
    "visit_number = 'cm40627-1'\n",
    "year = '2025'\n",
    "\n",
    "browser = NXSDataLoader(visit_number, year)"
   ]
  },
  {
   "cell_type": "markdown",
   "id": "4ec2d71d-f837-48e5-9013-0633a3c35e79",
   "metadata": {},
   "source": [
    "## Visualise Projections\n",
    "Once your data is loaded run the cell below to launch the interactive viewer. You can:\n",
    "- Navigate through projections using the Slice slider\n",
    "- Adjust contrast using the Max and Min sliders"
   ]
  },
  {
   "cell_type": "code",
   "execution_count": 3,
   "id": "6dc94d8d-cf70-4479-a6e9-c995cf6318fb",
   "metadata": {},
   "outputs": [
    {
     "data": {
      "application/vnd.jupyter.widget-view+json": {
       "model_id": "93bac02af58f476a86be3e0f4cf8fbd2",
       "version_major": 2,
       "version_minor": 0
      },
      "text/plain": [
       "HBox(children=(VBox(children=(VBox(children=(HBox(children=(VBox(children=(ImageWidget(height=648, width=768),…"
      ]
     },
     "execution_count": 3,
     "metadata": {},
     "output_type": "execute_result"
    }
   ],
   "source": [
    "stackview.viewer(browser.current_data, continuous_update=True, zoom_factor=1.2)"
   ]
  },
  {
   "cell_type": "code",
   "execution_count": 4,
   "id": "52e31d73-bd86-48d7-aa73-cb319acc464b",
   "metadata": {},
   "outputs": [
    {
     "data": {
      "application/vnd.jupyter.widget-view+json": {
       "model_id": "dba568d9cc044d249b2d9b38991a54fa",
       "version_major": 2,
       "version_minor": 0
      },
      "text/plain": [
       "VBox(children=(FileChooser(path='/dls/k11/data/2025/cm40627-1/xml/tomography/configurations/HTTomo', filename=…"
      ]
     },
     "metadata": {},
     "output_type": "display_data"
    }
   ],
   "source": [
    "editor = YAML_Editor(\"/dls/k11/data/\" + year + \"/\" + visit_number + \"/xml/tomography/configurations/HTTomo\")\n",
    "editor.Editor()"
   ]
  },
  {
   "cell_type": "code",
   "execution_count": 5,
   "id": "130db547-e277-45a5-a71b-9e39866f0db0",
   "metadata": {},
   "outputs": [
    {
     "name": "stdout",
     "output_type": "stream",
     "text": [
      "/dls/k11/data/2025/cm40627-1/nexus/k11-53999.nxs\n",
      "/dls/k11/data/2025/cm40627-1/xml/tomography/configurations/HTTomo/DIAD_VO_RS_FBP_edit.yaml\n",
      "[{'method': 'standard_tomo', 'module_path': 'httomo.data.hdf.loaders', 'parameters': {'data_path': '/entry/imaging/data', 'image_key_path': '/entry/instrument/imaging/image_key', 'rotation_angles': {'data_path': '/entry/imaging_sum/gts_cs_theta'}}}, {'id': 'centering', 'method': 'find_center_vo', 'module_path': 'httomolibgpu.recon.rotation', 'parameters': {'drop': 20, 'ind': 'mid', 'ratio': 0.5, 'smax': 50, 'smin': -50, 'srad': 6, 'step': 0.25}, 'side_outputs': {'cor': 'centre_of_rotation'}}, {'method': 'remove_outlier', 'module_path': 'httomolibgpu.misc.corr', 'parameters': {'dif': 0.1, 'kernel_size': 3}}, {'method': 'normalize', 'module_path': 'httomolibgpu.prep.normalize', 'parameters': {'cutoff': 10.0, 'minus_log': True, 'nonnegativity': False, 'remove_nans': False}}, {'method': 'remove_stripe_based_sorting', 'module_path': 'httomolibgpu.prep.stripe', 'parameters': {'dim': 1, 'size': 11}}, {'method': 'FBP', 'module_path': 'httomolibgpu.recon.algorithm', 'parameters': {'center': '${{centering.side_outputs.centre_of_rotation}}', 'filter_freq_cutoff': 0.6, 'recon_mask_radius': None, 'recon_size': None}, 'save_result': True}, {'id': 'statistics', 'method': 'calculate_stats', 'module_path': 'httomo.methods', 'parameters': {}, 'side_outputs': {'glob_stats': 'glob_stats'}}, {'method': 'rescale_to_int', 'module_path': 'httomolibgpu.misc.rescale', 'parameters': {'bits': 8, 'glob_stats': '${{statistics.side_outputs.glob_stats}}', 'perc_range_max': 99, 'perc_range_min': 1}}, {'method': 'save_to_images', 'module_path': 'httomolib.misc.images', 'parameters': {'axis': 'auto', 'file_format': 'tif', 'subfolder_name': 'images'}}]\n"
     ]
    }
   ],
   "source": [
    "print(browser.filepath)\n",
    "print(editor.save_path)\n",
    "print(editor.current_data)"
   ]
  },
  {
   "cell_type": "code",
   "execution_count": 14,
   "id": "0902ebc2-23a7-4ca0-b80a-6db402512b71",
   "metadata": {},
   "outputs": [
    {
     "name": "stdout",
     "output_type": "stream",
     "text": [
      "Destination Folder Output: \n",
      "Destination Folder Error: \n",
      "HtTomo Output: \t OpenMPI (4.1.6) environment set up (x86_64 bit version)\n",
      "\n",
      "Mamba will cache packages in /scratch/30day_tmp/cxh52226/.conda/pkgs\n",
      "\n",
      "\t\t  *********************************************\n",
      "\t\t   *    Loading HTTomo version 2.3 *\n",
      "\t\t  *********************************************\n",
      "\n",
      "\n",
      "Loading httomo/2.3\n",
      "  Loading requirement: openmpi/4.1.5\n",
      "Currently Loaded Modulefiles:\n",
      " 1) use.own           5) global/directories      9) openmpi/4.1.5        \n",
      " 2) controls-tools    6) python/3.10(default)   10) httomo/2.3(default)  \n",
      " 3) controls          7) openmpi/4.1.6__cuda12  \n",
      " 4) epics/3.14.12.7   8) mamba/2.0.5(default)   \n",
      "Failed to import module in /dls_sw/apps/httomo/2.3/lib/python3.12/site-packages/httomolibgpu/cupywrapper.py with error: \n",
      "================================================================\n",
      "Failed to import CuPy.\n",
      "\n",
      "If you installed CuPy via wheels (cupy-cudaXXX or cupy-rocm-X-X), make sure that the package matches with the version of CUDA or ROCm installed.\n",
      "\n",
      "On Linux, you may need to set LD_LIBRARY_PATH environment variable depending on how you installed CUDA/ROCm.\n",
      "On Windows, try setting CUDA_PATH environment variable.\n",
      "\n",
      "Check the Installation Guide for details:\n",
      "  https://docs.cupy.dev/en/latest/install.html\n",
      "\n",
      "Original error:\n",
      "  ImportError: libcuda.so.1: cannot open shared object file: No such file or directory\n",
      "================================================================\n",
      "; defaulting to CPU-only mode\n",
      "\n",
      "HtTomo Error: Traceback (most recent call last):\n",
      "  File \"<frozen runpy>\", line 198, in _run_module_as_main\n",
      "  File \"<frozen runpy>\", line 88, in _run_code\n",
      "  File \"/dls_sw/apps/httomo/2.3/lib/python3.12/site-packages/httomo/__main__.py\", line 4, in <module>\n",
      "    main()\n",
      "  File \"/dls_sw/apps/httomo/2.3/lib/python3.12/site-packages/click/core.py\", line 1161, in __call__\n",
      "    return self.main(*args, **kwargs)\n",
      "           ^^^^^^^^^^^^^^^^^^^^^^^^^^\n",
      "  File \"/dls_sw/apps/httomo/2.3/lib/python3.12/site-packages/click/core.py\", line 1082, in main\n",
      "    rv = self.invoke(ctx)\n",
      "         ^^^^^^^^^^^^^^^^\n",
      "  File \"/dls_sw/apps/httomo/2.3/lib/python3.12/site-packages/click/core.py\", line 1697, in invoke\n",
      "    return _process_result(sub_ctx.command.invoke(sub_ctx))\n",
      "                           ^^^^^^^^^^^^^^^^^^^^^^^^^^^^^^^\n",
      "  File \"/dls_sw/apps/httomo/2.3/lib/python3.12/site-packages/click/core.py\", line 1443, in invoke\n",
      "    return ctx.invoke(self.callback, **ctx.params)\n",
      "           ^^^^^^^^^^^^^^^^^^^^^^^^^^^^^^^^^^^^^^^\n",
      "  File \"/dls_sw/apps/httomo/2.3/lib/python3.12/site-packages/click/core.py\", line 788, in invoke\n",
      "    return __callback(*args, **kwargs)\n",
      "           ^^^^^^^^^^^^^^^^^^^^^^^^^^^\n",
      "  File \"/dls_sw/apps/httomo/2.3/lib/python3.12/site-packages/httomo/cli.py\", line 183, in run\n",
      "    pipeline = generate_pipeline(\n",
      "               ^^^^^^^^^^^^^^^^^^\n",
      "  File \"/dls_sw/apps/httomo/2.3/lib/python3.12/site-packages/httomo/cli.py\", line 281, in generate_pipeline\n",
      "    pipeline = init_UiLayer.build_pipeline()\n",
      "               ^^^^^^^^^^^^^^^^^^^^^^^^^^^^^\n",
      "  File \"/dls_sw/apps/httomo/2.3/lib/python3.12/site-packages/httomo/ui_layer.py\", line 62, in build_pipeline\n",
      "    self._append_methods_list(\n",
      "  File \"/dls_sw/apps/httomo/2.3/lib/python3.12/site-packages/httomo/ui_layer.py\", line 92, in _append_methods_list\n",
      "    method = make_method_wrapper(\n",
      "             ^^^^^^^^^^^^^^^^^^^^\n",
      "  File \"/dls_sw/apps/httomo/2.3/lib/python3.12/site-packages/httomo/method_wrappers/__init__.py\", line 88, in make_method_wrapper\n",
      "    return cls(\n",
      "           ^^^^\n",
      "  File \"/dls_sw/apps/httomo/2.3/lib/python3.12/site-packages/httomo/method_wrappers/rotation.py\", line 48, in __init__\n",
      "    super().__init__(\n",
      "  File \"/dls_sw/apps/httomo/2.3/lib/python3.12/site-packages/httomo/method_wrappers/generic.py\", line 135, in __init__\n",
      "    raise ValueError(\"GPU is not available, please use only CPU methods\")\n",
      "ValueError: GPU is not available, please use only CPU methods\n",
      "\n",
      "END OF RECONSTRUCTION\n"
     ]
    }
   ],
   "source": [
    "output_path = f\"/dls/k11/data/{year}/{visit_number}/tmp/live_recon\"\n",
    "create_folder = f\"mkdir {output_path}\"\n",
    "\n",
    "httomo_load = 'module load openmpi && module load mamba && module load httomo && module list'\n",
    "httomo_reco = f\"python -m httomo run {browser.filepath} {editor.save_path} {output_path}\"\n",
    "\n",
    "try:\n",
    "    shutil.rmtree(output_path)\n",
    "except:\n",
    "    pass\n",
    "result = subprocess.run(f'{create_folder}', shell=True, capture_output=True, text=True)\n",
    "print(\"Destination Folder Output:\", result.stdout)\n",
    "print(\"Destination Folder Error:\", result.stderr)\n",
    "\n",
    "result = subprocess.run(f'{httomo_load} && {httomo_reco}', shell=True, capture_output=True, text=True)\n",
    "print(\"HtTomo Output:\", result.stdout)\n",
    "print(\"HtTomo Error:\", result.stderr)\n",
    "\n",
    "print('END OF RECONSTRUCTION')"
   ]
  },
  {
   "cell_type": "code",
   "execution_count": 23,
   "id": "36c00ea2-edcb-464c-90cc-a9712519d88b",
   "metadata": {},
   "outputs": [],
   "source": [
    "processed_data = None\n",
    "for root, dirs, files in os.walk(output_path):\n",
    "    for file in files:\n",
    "        if file.endswith(\".log\"):\n",
    "            processed_data = os.path.join(root, file)\n",
    "            pass"
   ]
  },
  {
   "cell_type": "code",
   "execution_count": 26,
   "id": "6c5d3b25-02e7-4088-bc38-dff1d262d6ce",
   "metadata": {},
   "outputs": [
    {
     "data": {
      "application/vnd.jupyter.widget-view+json": {
       "model_id": "4e88ae5424de4a1cb0c3190f2b715d1a",
       "version_major": 2,
       "version_minor": 0
      },
      "text/plain": [
       "HBox(children=(VBox(children=(VBox(children=(HBox(children=(VBox(children=(ImageWidget(height=648, width=768),…"
      ]
     },
     "execution_count": 26,
     "metadata": {},
     "output_type": "execute_result"
    }
   ],
   "source": [
    "output_path = \"/dls/k11/data/2025/cm40627-1/nexus/k11-53999.nxs\"\n",
    "current_data = None\n",
    "with h5py.File(output_path, 'r') as f:\n",
    "    current_data = np.asarray(f['entry/imaging/data'][:], dtype=np.uint16) ## update entry name !!!!!!\n",
    "stackview.viewer(current_data, continuous_update=True, zoom_factor=1.2)"
   ]
  }
 ],
 "metadata": {
  "kernelspec": {
   "display_name": "Python 3 (ipykernel)",
   "language": "python",
   "name": "python3"
  },
  "language_info": {
   "codemirror_mode": {
    "name": "ipython",
    "version": 3
   },
   "file_extension": ".py",
   "mimetype": "text/x-python",
   "name": "python",
   "nbconvert_exporter": "python",
   "pygments_lexer": "ipython3",
   "version": "3.10.12"
  }
 },
 "nbformat": 4,
 "nbformat_minor": 5
}
